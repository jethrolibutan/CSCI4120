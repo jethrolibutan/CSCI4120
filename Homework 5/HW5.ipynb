{
 "cells": [
  {
   "cell_type": "markdown",
   "metadata": {},
   "source": [
    "# Homework 5 RF Accuracy Improvement\n",
    "\n",
    "This assignment is inspired by examples of Shan-Hung Wu from National Tsing Hua University.\n",
    "\n",
    "Requirement: improve the accuracy per feature of the following code from 0.03 up to at least 0.45 and accuracy should be more than 0.92\n",
    "\n",
    "Here are three hints:\n",
    "\n",
    "    You can improve the ratio by picking out or \"creating\" several features.\n",
    "    Tune hyperparameters\n",
    "    The ratio can be improved from 0.03 up to 0.47."
   ]
  },
  {
   "cell_type": "code",
   "execution_count": 166,
   "metadata": {},
   "outputs": [
    {
     "name": "stdout",
     "output_type": "stream",
     "text": [
      "Dataset shape: (569, 30)\n",
      "Best cross-validation accuracy from RandomizedSearchCV: 0.9473101265822784\n",
      "Selected hyperparameters: {'n_estimators': np.int64(100), 'criterion': 'gini'}\n",
      "Test Set Accuracy: 0.95\n",
      "Accuracy per feature dimension: 0.09\n"
     ]
    }
   ],
   "source": [
    "from sklearn.model_selection import train_test_split, RandomizedSearchCV\n",
    "from sklearn.datasets import load_breast_cancer\n",
    "from sklearn.ensemble import RandomForestClassifier\n",
    "from sklearn.metrics import accuracy_score\n",
    "import numpy as np\n",
    "\n",
    "# Load the dataset\n",
    "cancer_data = load_breast_cancer()\n",
    "data_features, data_target = cancer_data.data, cancer_data.target\n",
    "\n",
    "# Show dataset dimensions (no PCA transformation applied)\n",
    "print(\"Dataset shape:\", data_features.shape)\n",
    "\n",
    "# TODO: Select features based on connections with Y (importance? correlation?)\n",
    "# Train an initial RandomForest model to get feature importances\n",
    "initial_rf_model = RandomForestClassifier(n_estimators=100, random_state=0)\n",
    "initial_rf_model.fit(data_features, data_target)\n",
    "\n",
    "# Get feature importances and select top features\n",
    "feature_importances = initial_rf_model.feature_importances_\n",
    "top_features = np.argsort(feature_importances)[-10:]  # Select the top 10 features, adjust as needed\n",
    "\n",
    "# Use only the selected top features for training/testing\n",
    "selected_features = data_features[:, top_features]\n",
    "\n",
    "# Split data into training and testing sets (70% train, 30% test)\n",
    "X_train, X_test, y_train, y_test = train_test_split(\n",
    "    selected_features, data_target, test_size=0.3, random_state=0\n",
    ")\n",
    "\n",
    "# TODO: Set up the RandomForestClassifier with hyperparameter tuning\n",
    "# Initialize the RandomForestClassifier and set up an extended parameter grid for tuning\n",
    "random_forest_model = RandomForestClassifier()\n",
    "param_grid = {\n",
    "    'n_estimators': np.arange(10, 101, 10),      # Wider range for number of trees\n",
    "    'criterion': [\"gini\", \"entropy\"],          # Minimum samples per split      # Corrected max features\n",
    "}\n",
    "\n",
    "# Use RandomizedSearchCV to perform hyperparameter tuning with 5-fold cross-validation\n",
    "tuned_model = RandomizedSearchCV(\n",
    "    estimator=random_forest_model, param_distributions=param_grid,\n",
    "    n_iter=20, cv=5, error_score='raise', random_state=0\n",
    ")\n",
    "tuned_model.fit(X_train, y_train)\n",
    "\n",
    "# Print the optimal cross-validation score and selected parameters\n",
    "print(\"Best cross-validation accuracy from RandomizedSearchCV:\", tuned_model.best_score_)\n",
    "print(\"Selected hyperparameters:\", tuned_model.best_params_)\n",
    "\n",
    "# TODO: Predict and calculate accuracy on the test set\n",
    "# Predict on the test set using the tuned model\n",
    "y_test_predictions = tuned_model.best_estimator_.predict(X_test)\n",
    "\n",
    "# Calculate overall test accuracy and per-feature accuracy\n",
    "test_accuracy = accuracy_score(y_test, y_test_predictions)\n",
    "print(f\"Test Set Accuracy: {test_accuracy:.2f}\")\n",
    "print(f\"Accuracy per feature dimension: {test_accuracy / selected_features.shape[1]:.2f}\")\n"
   ]
  },
  {
   "cell_type": "code",
   "execution_count": null,
   "metadata": {},
   "outputs": [],
   "source": []
  }
 ],
 "metadata": {
  "kernelspec": {
   "display_name": "Python 3",
   "language": "python",
   "name": "python3"
  },
  "language_info": {
   "codemirror_mode": {
    "name": "ipython",
    "version": 3
   },
   "file_extension": ".py",
   "mimetype": "text/x-python",
   "name": "python",
   "nbconvert_exporter": "python",
   "pygments_lexer": "ipython3",
   "version": "3.12.7"
  }
 },
 "nbformat": 4,
 "nbformat_minor": 2
}
