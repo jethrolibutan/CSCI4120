{
 "cells": [
  {
   "cell_type": "markdown",
   "metadata": {},
   "source": [
    "# Homework 5 RF Accuracy Improvement\n",
    "\n",
    "This assignment is inspired by examples of Shan-Hung Wu from National Tsing Hua University.\n",
    "\n",
    "Requirement: improve the accuracy per feature of the following code from 0.03 up to at least 0.45 and accuracy should be more than 0.92\n",
    "\n",
    "Here are three hints:\n",
    "\n",
    "    You can improve the ratio by picking out or \"creating\" several features.\n",
    "    Tune hyperparameters\n",
    "    The ratio can be improved from 0.03 up to 0.47."
   ]
  },
  {
   "cell_type": "code",
   "execution_count": 209,
   "metadata": {},
   "outputs": [
    {
     "name": "stdout",
     "output_type": "stream",
     "text": [
      "Dataset shape: (569, 30)\n",
      "Best cross-validation accuracy from RandomizedSearchCV: 0.8994620253164557\n",
      "Selected hyperparameters: {'n_estimators': np.int64(2000), 'min_samples_split': 25, 'min_samples_leaf': 12, 'max_features': 'sqrt', 'max_depth': 7, 'criterion': 'entropy'}\n",
      "Test Set Accuracy: 0.94\n",
      "Accuracy per feature dimension: 0.47\n"
     ]
    }
   ],
   "source": [
    "from sklearn.model_selection import train_test_split, RandomizedSearchCV\n",
    "from sklearn.datasets import load_breast_cancer\n",
    "from sklearn.ensemble import RandomForestClassifier\n",
    "from sklearn.metrics import accuracy_score\n",
    "import numpy as np\n",
    "\n",
    "# Load the dataset\n",
    "cancer_data = load_breast_cancer()\n",
    "features, target = cancer_data.data, cancer_data.target\n",
    "\n",
    "# Print initial dataset dimensions\n",
    "print(\"Dataset shape:\", features.shape)\n",
    "\n",
    "# TODO: Select features based on importance or correlation with the target variable\n",
    "# Train a RandomForest model to get feature importances\n",
    "base_model = RandomForestClassifier(n_estimators=100, random_state=0)\n",
    "base_model.fit(features, target)\n",
    "\n",
    "# Get feature importances and select the top 3 features \n",
    "feature_importances = base_model.feature_importances_\n",
    "top_features_idx = np.argsort(feature_importances)[-2:]\n",
    "top_features = features[:, top_features_idx] \n",
    "\n",
    "# Split data into training and testing\n",
    "train_features, test_features, train_target, test_target = train_test_split(\n",
    "    top_features, target, test_size=0.3, random_state=0\n",
    ")\n",
    "\n",
    "# TODO: Set up RandomForestClassifier with hyperparameter tuning\n",
    "# Initialize the model and tuning the hyperparameters\n",
    "rf_model = RandomForestClassifier()\n",
    "param_grid = {\n",
    "    'n_estimators': np.arange(100, 2001, 100),       \n",
    "    'criterion': [\"gini\", \"entropy\"],\n",
    "    'max_depth': [None, 5, 7, 10],  \n",
    "    'min_samples_split': [2, 5, 10, 15, 20, 25],    \n",
    "    'min_samples_leaf': [1, 2, 4, 8, 10, 12, 15],   \n",
    "    'max_features': ['sqrt', 'log2']                \n",
    "}\n",
    "\n",
    "# Use RandomizedSearchCV to tune hyperparameters with 5-fold cross-validation\n",
    "tuned_model = RandomizedSearchCV(\n",
    "    estimator=rf_model, param_distributions=param_grid,\n",
    "    n_iter=20, cv=5, error_score='raise', random_state=0\n",
    ")\n",
    "tuned_model.fit(train_features, train_target)\n",
    "\n",
    "# Print the best cross-validation score and the chosen hyperparameters\n",
    "print(\"Best cross-validation accuracy from RandomizedSearchCV:\", tuned_model.best_score_)\n",
    "print(\"Selected hyperparameters:\", tuned_model.best_params_)\n",
    "\n",
    "# TODO: Predict and calculate accuracy on the test set\n",
    "# Make predictions on the test set with the tuned model\n",
    "test_predictions = tuned_model.best_estimator_.predict(test_features)\n",
    "\n",
    "# Calculate and print test set accuracy and per-feature accuracy\n",
    "test_accuracy = accuracy_score(test_target, test_predictions)\n",
    "print(f\"Test Set Accuracy: {test_accuracy:.2f}\")\n",
    "print(f\"Accuracy per feature dimension: {test_accuracy / top_features.shape[1]:.2f}\")\n"
   ]
  },
  {
   "cell_type": "code",
   "execution_count": null,
   "metadata": {},
   "outputs": [],
   "source": []
  }
 ],
 "metadata": {
  "kernelspec": {
   "display_name": "Python 3",
   "language": "python",
   "name": "python3"
  },
  "language_info": {
   "codemirror_mode": {
    "name": "ipython",
    "version": 3
   },
   "file_extension": ".py",
   "mimetype": "text/x-python",
   "name": "python",
   "nbconvert_exporter": "python",
   "pygments_lexer": "ipython3",
   "version": "3.12.7"
  }
 },
 "nbformat": 4,
 "nbformat_minor": 2
}
